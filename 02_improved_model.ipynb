{
 "cells": [
  {
   "cell_type": "code",
   "execution_count": 136,
   "metadata": {
    "collapsed": true
   },
   "outputs": [],
   "source": [
    "import datetime\n",
    "\n",
    "import pandas as pd\n",
    "import matplotlib.pyplot as plt\n",
    "import numpy as np\n",
    "#import seaborn as sns\n",
    "from sklearn.ensemble import GradientBoostingRegressor\n",
    "from sklearn.model_selection import train_test_split\n",
    "from sklearn.metrics import mean_squared_error\n",
    "import holidays\n",
    "from datetime import date\n",
    "from pvlib.location import Location"
   ]
  },
  {
   "cell_type": "code",
   "execution_count": 137,
   "outputs": [
    {
     "data": {
      "text/plain": "88712"
     },
     "execution_count": 137,
     "metadata": {},
     "output_type": "execute_result"
    }
   ],
   "source": [
    "train = pd.read_csv('train.csv')\n",
    "test = pd.read_csv('test.csv')\n",
    "test.head()\n",
    "sample_submission = pd.read_csv('sample_submission.csv')\n",
    "\n",
    "len(train)"
   ],
   "metadata": {
    "collapsed": false,
    "pycharm": {
     "name": "#%% LOAD DATA\n"
    }
   }
  },
  {
   "cell_type": "code",
   "execution_count": 138,
   "outputs": [],
   "source": [
    "# convert to date time\n",
    "train['datetime'] = pd.to_datetime(train.time, infer_datetime_format=True)\n",
    "test['datetime'] = pd.to_datetime(test.time, infer_datetime_format=True)\n",
    "\n",
    "# Remove time as string\n",
    "train.drop(columns='time',inplace=True)\n",
    "test.drop(columns='time', inplace=True)\n",
    "\n",
    "# time in local as datetime format\n",
    "train['time_local'] = train['datetime'].copy()\n",
    "test['time_local'] = test['datetime'].copy()"
   ],
   "metadata": {
    "collapsed": false,
    "pycharm": {
     "name": "#%% CREATE DATASET\n"
    }
   }
  },
  {
   "cell_type": "code",
   "execution_count": 139,
   "outputs": [],
   "source": [
    "# ToDo @Jonas: time local and utc\n",
    "train.set_index('datetime', inplace=True)\n",
    "train['hour'] = train.index.hour\n",
    "train['day'] = train.index.day\n",
    "train['month'] = train.index.month\n",
    "\n",
    "test.set_index('datetime', inplace=True)\n",
    "test['hour'] = test.index.hour\n",
    "test['day'] = test.index.day\n",
    "test['month'] = test.index.month\n",
    "\n",
    "\n",
    "## check whether its a weekday or a weekend\n",
    "# monday is 0\n",
    "# sunday = 6\n",
    "train['weekday'] = train.index.weekday\n",
    "test['weekday'] = test.index.weekday\n",
    "train['weekday'] = train['weekday'].apply(lambda x: 1 if x <= 4 else 0)\n",
    "test['weekday'] = test['weekday'].apply(lambda x: 1 if x <= 4 else 0)\n",
    "\n",
    "\n",
    "### Holidays\n",
    "# ToDo: Brückentage\n",
    "hessen_holidays = holidays.country_holidays('DE', subdiv='HE')\n",
    "\n",
    "# date(2015, 1, 1) in hessen_holidays  # True\n",
    "# date(2015, 1, 2) in hessen_holidays  # False\n",
    "# train.index[0] in hessen_holidays\n",
    "\n",
    "time = train.index.copy()\n",
    "holidayOrNot = []\n",
    "for itime in time:\n",
    "    holidayOrNot.append(itime in hessen_holidays)\n",
    "\n",
    "train['public_holidays'] = holidayOrNot\n",
    "train['public_holidays'] = train['public_holidays'].apply(lambda x: 1 if x == True else 0)\n",
    "\n",
    "## do the same for test\n",
    "time = test.index.copy()\n",
    "holidayOrNot = []\n",
    "for itime in time:\n",
    "    holidayOrNot.append(itime in hessen_holidays)\n",
    "\n",
    "test['public_holidays'] = holidayOrNot\n",
    "test['public_holidays'] = test['public_holidays'].apply(lambda x: 1 if x == True else 0)\n"
   ],
   "metadata": {
    "collapsed": false,
    "pycharm": {
     "name": "#%%\n"
    }
   }
  },
  {
   "cell_type": "code",
   "execution_count": 140,
   "outputs": [],
   "source": [
    "time = train.index.copy()\n",
    "dayOfYearCos = []\n",
    "dayOfYearSin = []\n",
    "doy = []\n",
    "for itime in time:\n",
    "    doy.append(itime.timetuple().tm_yday)\n",
    "    dayOfYearCos.append(np.cos(itime.timetuple().tm_yday/365*2*np.pi))\n",
    "    dayOfYearSin.append(np.sin(itime.timetuple().tm_yday/365*2*np.pi))\n",
    "\n",
    "train['dayOfYearSinosoid'] = dayOfYearSin\n",
    "train['dayOfYearCosine'] = dayOfYearCos\n",
    "train['monthSinosoid'] = np.sin(train['month']/12*2*np.pi)\n",
    "train['monthCosine'] = np.cos(train['month']/12*2*np.pi)\n",
    "train['hourSinosoid'] = np.sin(train['hour']/24*2*np.pi)\n",
    "train['hourCosine'] = np.cos(train['hour']/24*2*np.pi)"
   ],
   "metadata": {
    "collapsed": false,
    "pycharm": {
     "name": "#%% Convert Time Features to Sinosoids and Cosine\n"
    }
   }
  },
  {
   "cell_type": "code",
   "execution_count": 141,
   "outputs": [],
   "source": [
    "## Same for Test\n",
    "time = test.index.copy()\n",
    "dayOfYearCos = []\n",
    "dayOfYearSin = []\n",
    "doy = []\n",
    "\n",
    "for itime in time:\n",
    "    doy.append(itime.timetuple().tm_yday)\n",
    "    dayOfYearCos.append(np.cos(itime.timetuple().tm_yday/365*2*np.pi))\n",
    "    dayOfYearSin.append(np.sin(itime.timetuple().tm_yday/365*2*np.pi))\n",
    "\n",
    "test['dayOfYearSinosoid'] = dayOfYearSin\n",
    "test['dayOfYearCosine'] = dayOfYearCos\n",
    "test['monthSinosoid'] = np.sin(test['month']/12*2*np.pi)\n",
    "test['monthCosine'] = np.cos(test['month']/12*2*np.pi)\n",
    "test['hourSinosoid'] = np.sin(test['hour']/24*2*np.pi)\n",
    "test['hourCosine'] = np.cos(test['hour']/24*2*np.pi)\n"
   ],
   "metadata": {
    "collapsed": false,
    "pycharm": {
     "name": "#%%\n"
    }
   }
  },
  {
   "cell_type": "code",
   "execution_count": 142,
   "outputs": [
    {
     "data": {
      "text/plain": "[<matplotlib.lines.Line2D at 0x223cd64afd0>]"
     },
     "execution_count": 142,
     "metadata": {},
     "output_type": "execute_result"
    },
    {
     "data": {
      "text/plain": "<Figure size 432x288 with 1 Axes>",
      "image/png": "[encoded data removed]"
     },
     "metadata": {
      "needs_background": "light"
     },
     "output_type": "display_data"
    }
   ],
   "source": [
    "#azimuth and solarHeight in UTC\n",
    "#site = Location(51.31589123669711, 9.427936780578166, 'CET')\n",
    "site = Location(51.316, 9.428, 'UTC')\n",
    "#site = Location(51, 10, 'UTC')\n",
    "# Definition of a time range of simulation\n",
    "# train\n",
    "times = train.index\n",
    "\n",
    "# Estimate Solar Position with the 'Location' object\n",
    "solpos = site.get_solarposition(times)\n",
    "train['AzimuthUTC'] = solpos.azimuth\n",
    "train['SolarHeightUTC'] = solpos.elevation\n",
    "#\n",
    "# test\n",
    "times = test.index\n",
    "solpos = site.get_solarposition(times)\n",
    "test['AzimuthUTC'] = solpos.azimuth\n",
    "test['SolarHeightUTC'] = solpos.elevation\n",
    "\n",
    "plt.plot(test.H_sun.iloc[0:100])\n",
    "plt.plot(solpos.elevation[0:100])"
   ],
   "metadata": {
    "collapsed": false,
    "pycharm": {
     "name": "#%% Get solar Azimuth\n"
    }
   }
  },
  {
   "cell_type": "code",
   "execution_count": 142,
   "outputs": [],
   "source": [],
   "metadata": {
    "collapsed": false,
    "pycharm": {
     "name": "#%% Shift Data\n"
    }
   }
  },
  {
   "cell_type": "code",
   "execution_count": 143,
   "outputs": [
    {
     "data": {
      "text/plain": "                       P  Gb(i)  Gd(i)  H_sun   T2m  WS10m   load  \\\ndatetime                                                            \n2018-01-01 00:00:00  0.0    0.0    0.0    0.0  9.11   5.38  113.5   \n2018-01-01 00:15:00  0.0    0.0    0.0    0.0  8.89   5.43  119.0   \n2018-01-01 00:30:00  0.0    0.0    0.0    0.0  8.66   5.48  117.5   \n2018-01-01 00:45:00  0.0    0.0    0.0    0.0  8.44   5.54  114.5   \n2018-01-01 01:00:00  0.0    0.0    0.0    0.0  8.22   5.59  123.0   \n\n                     residual_load  dataset_id          time_local  ...  \\\ndatetime                                                            ...   \n2018-01-01 00:00:00          113.5           1 2018-01-01 00:00:00  ...   \n2018-01-01 00:15:00          119.0           1 2018-01-01 00:15:00  ...   \n2018-01-01 00:30:00          117.5           1 2018-01-01 00:30:00  ...   \n2018-01-01 00:45:00          114.5           1 2018-01-01 00:45:00  ...   \n2018-01-01 01:00:00          123.0           1 2018-01-01 01:00:00  ...   \n\n                     weekday  public_holidays  dayOfYearSinosoid  \\\ndatetime                                                           \n2018-01-01 00:00:00        1                1           0.017213   \n2018-01-01 00:15:00        1                1           0.017213   \n2018-01-01 00:30:00        1                1           0.017213   \n2018-01-01 00:45:00        1                1           0.017213   \n2018-01-01 01:00:00        1                1           0.017213   \n\n                     dayOfYearCosine  monthSinosoid  monthCosine  \\\ndatetime                                                           \n2018-01-01 00:00:00         0.999852            0.5     0.866025   \n2018-01-01 00:15:00         0.999852            0.5     0.866025   \n2018-01-01 00:30:00         0.999852            0.5     0.866025   \n2018-01-01 00:45:00         0.999852            0.5     0.866025   \n2018-01-01 01:00:00         0.999852            0.5     0.866025   \n\n                     hourSinosoid  hourCosine  AzimuthUTC  SolarHeightUTC  \ndatetime                                                                   \n2018-01-01 00:00:00      0.000000    1.000000   16.446953      -60.932964  \n2018-01-01 00:15:00      0.000000    1.000000   23.274456      -60.135682  \n2018-01-01 00:30:00      0.000000    1.000000   29.776164      -59.088009  \n2018-01-01 00:45:00      0.000000    1.000000   35.909027      -57.816064  \n2018-01-01 01:00:00      0.258819    0.965926   41.656656      -56.347315  \n\n[5 rows x 23 columns]",
      "text/html": "<div>\n<style scoped>\n    .dataframe tbody tr th:only-of-type {\n        vertical-align: middle;\n    }\n\n    .dataframe tbody tr th {\n        vertical-align: top;\n    }\n\n    .dataframe thead th {\n        text-align: right;\n    }\n</style>\n<table border=\"1\" class=\"dataframe\">\n  <thead>\n    <tr style=\"text-align: right;\">\n      <th></th>\n      <th>P</th>\n      <th>Gb(i)</th>\n      <th>Gd(i)</th>\n      <th>H_sun</th>\n      <th>T2m</th>\n      <th>WS10m</th>\n      <th>load</th>\n      <th>residual_load</th>\n      <th>dataset_id</th>\n      <th>time_local</th>\n      <th>...</th>\n      <th>weekday</th>\n      <th>public_holidays</th>\n      <th>dayOfYearSinosoid</th>\n      <th>dayOfYearCosine</th>\n      <th>monthSinosoid</th>\n      <th>monthCosine</th>\n      <th>hourSinosoid</th>\n      <th>hourCosine</th>\n      <th>AzimuthUTC</th>\n      <th>SolarHeightUTC</th>\n    </tr>\n    <tr>\n      <th>datetime</th>\n      <th></th>\n      <th></th>\n      <th></th>\n      <th></th>\n      <th></th>\n      <th></th>\n      <th></th>\n      <th></th>\n      <th></th>\n      <th></th>\n      <th></th>\n      <th></th>\n      <th></th>\n      <th></th>\n      <th></th>\n      <th></th>\n      <th></th>\n      <th></th>\n      <th></th>\n      <th></th>\n      <th></th>\n    </tr>\n  </thead>\n  <tbody>\n    <tr>\n      <th>2018-01-01 00:00:00</th>\n      <td>0.0</td>\n      <td>0.0</td>\n      <td>0.0</td>\n      <td>0.0</td>\n      <td>9.11</td>\n      <td>5.38</td>\n      <td>113.5</td>\n      <td>113.5</td>\n      <td>1</td>\n      <td>2018-01-01 00:00:00</td>\n      <td>...</td>\n      <td>1</td>\n      <td>1</td>\n      <td>0.017213</td>\n      <td>0.999852</td>\n      <td>0.5</td>\n      <td>0.866025</td>\n      <td>0.000000</td>\n      <td>1.000000</td>\n      <td>16.446953</td>\n      <td>-60.932964</td>\n    </tr>\n    <tr>\n      <th>2018-01-01 00:15:00</th>\n      <td>0.0</td>\n      <td>0.0</td>\n      <td>0.0</td>\n      <td>0.0</td>\n      <td>8.89</td>\n      <td>5.43</td>\n      <td>119.0</td>\n      <td>119.0</td>\n      <td>1</td>\n      <td>2018-01-01 00:15:00</td>\n      <td>...</td>\n      <td>1</td>\n      <td>1</td>\n      <td>0.017213</td>\n      <td>0.999852</td>\n      <td>0.5</td>\n      <td>0.866025</td>\n      <td>0.000000</td>\n      <td>1.000000</td>\n      <td>23.274456</td>\n      <td>-60.135682</td>\n    </tr>\n    <tr>\n      <th>2018-01-01 00:30:00</th>\n      <td>0.0</td>\n      <td>0.0</td>\n      <td>0.0</td>\n      <td>0.0</td>\n      <td>8.66</td>\n      <td>5.48</td>\n      <td>117.5</td>\n      <td>117.5</td>\n      <td>1</td>\n      <td>2018-01-01 00:30:00</td>\n      <td>...</td>\n      <td>1</td>\n      <td>1</td>\n      <td>0.017213</td>\n      <td>0.999852</td>\n      <td>0.5</td>\n      <td>0.866025</td>\n      <td>0.000000</td>\n      <td>1.000000</td>\n      <td>29.776164</td>\n      <td>-59.088009</td>\n    </tr>\n    <tr>\n      <th>2018-01-01 00:45:00</th>\n      <td>0.0</td>\n      <td>0.0</td>\n      <td>0.0</td>\n      <td>0.0</td>\n      <td>8.44</td>\n      <td>5.54</td>\n      <td>114.5</td>\n      <td>114.5</td>\n      <td>1</td>\n      <td>2018-01-01 00:45:00</td>\n      <td>...</td>\n      <td>1</td>\n      <td>1</td>\n      <td>0.017213</td>\n      <td>0.999852</td>\n      <td>0.5</td>\n      <td>0.866025</td>\n      <td>0.000000</td>\n      <td>1.000000</td>\n      <td>35.909027</td>\n      <td>-57.816064</td>\n    </tr>\n    <tr>\n      <th>2018-01-01 01:00:00</th>\n      <td>0.0</td>\n      <td>0.0</td>\n      <td>0.0</td>\n      <td>0.0</td>\n      <td>8.22</td>\n      <td>5.59</td>\n      <td>123.0</td>\n      <td>123.0</td>\n      <td>1</td>\n      <td>2018-01-01 01:00:00</td>\n      <td>...</td>\n      <td>1</td>\n      <td>1</td>\n      <td>0.017213</td>\n      <td>0.999852</td>\n      <td>0.5</td>\n      <td>0.866025</td>\n      <td>0.258819</td>\n      <td>0.965926</td>\n      <td>41.656656</td>\n      <td>-56.347315</td>\n    </tr>\n  </tbody>\n</table>\n<p>5 rows × 23 columns</p>\n</div>"
     },
     "execution_count": 143,
     "metadata": {},
     "output_type": "execute_result"
    }
   ],
   "source": [
    "train.head()"
   ],
   "metadata": {
    "collapsed": false,
    "pycharm": {
     "name": "#%%\n"
    }
   }
  },
  {
   "cell_type": "code",
   "execution_count": 144,
   "outputs": [],
   "source": [
    "# test.head()"
   ],
   "metadata": {
    "collapsed": false,
    "pycharm": {
     "name": "#%%\n"
    }
   }
  },
  {
   "cell_type": "code",
   "execution_count": 145,
   "outputs": [
    {
     "name": "stderr",
     "output_type": "stream",
     "text": [
      "C:\\Users\\aherzog\\AppData\\Local\\Programs\\Python\\Python39\\lib\\site-packages\\pandas\\core\\arrays\\datetimes.py:741: PerformanceWarning: Non-vectorized DateOffset being applied to Series or DatetimeIndex\n",
      "  warnings.warn(\n"
     ]
    }
   ],
   "source": [
    "## get the data from exactly a week ago and additionally the time steps one hour before and after that one for trends\n",
    "train_raw = train.copy()\n",
    "\n",
    "# shift: minus 1 week and one hour\n",
    "train_tmp = train_raw.copy()\n",
    "train_tmp['time_local'] = train_tmp['time_local'] - pd.DateOffset(days=7) - pd.DateOffset(hour=1)\n",
    "train_tmp = train_tmp.add_suffix('_m1w_m1h')\n",
    "train = pd.concat([train, train_tmp],axis=1).sort_index()\n",
    "\n",
    "# shift: minus 1 week\n",
    "train_tmp = train_raw.copy()\n",
    "train_tmp['time_local'] = train_tmp['time_local'] - pd.DateOffset(days=7)\n",
    "train_tmp = train_tmp.add_suffix('_m1w')\n",
    "train = pd.concat([train, train_tmp],axis=1).sort_index()\n",
    "\n",
    "# shift: minus 6 days and 23 hours\n",
    "train_tmp = train_raw.copy()\n",
    "train_tmp['time_local'] = train_tmp['time_local'] - pd.DateOffset(days=7) + pd.DateOffset(hour=1)\n",
    "train_tmp = train_tmp.add_suffix('_m1w_p1h')\n",
    "train = pd.concat([train, train_tmp],axis=1).sort_index()\n",
    "\n",
    "# train.head()"
   ],
   "metadata": {
    "collapsed": false,
    "pycharm": {
     "name": "#%%\n"
    }
   }
  },
  {
   "cell_type": "code",
   "execution_count": 146,
   "outputs": [
    {
     "data": {
      "text/plain": "['P',\n 'Gb(i)',\n 'Gd(i)',\n 'H_sun',\n 'T2m',\n 'WS10m',\n 'load',\n 'residual_load',\n 'dataset_id',\n 'time_local',\n 'hour',\n 'day',\n 'month',\n 'weekday',\n 'public_holidays',\n 'dayOfYearSinosoid',\n 'dayOfYearCosine',\n 'monthSinosoid',\n 'monthCosine',\n 'hourSinosoid',\n 'hourCosine',\n 'AzimuthUTC',\n 'SolarHeightUTC',\n 'P_m1w_m1h',\n 'Gb(i)_m1w_m1h',\n 'Gd(i)_m1w_m1h',\n 'H_sun_m1w_m1h',\n 'T2m_m1w_m1h',\n 'WS10m_m1w_m1h',\n 'load_m1w_m1h',\n 'residual_load_m1w_m1h',\n 'dataset_id_m1w_m1h',\n 'time_local_m1w_m1h',\n 'hour_m1w_m1h',\n 'day_m1w_m1h',\n 'month_m1w_m1h',\n 'weekday_m1w_m1h',\n 'public_holidays_m1w_m1h',\n 'dayOfYearSinosoid_m1w_m1h',\n 'dayOfYearCosine_m1w_m1h',\n 'monthSinosoid_m1w_m1h',\n 'monthCosine_m1w_m1h',\n 'hourSinosoid_m1w_m1h',\n 'hourCosine_m1w_m1h',\n 'AzimuthUTC_m1w_m1h',\n 'SolarHeightUTC_m1w_m1h',\n 'P_m1w',\n 'Gb(i)_m1w',\n 'Gd(i)_m1w',\n 'H_sun_m1w',\n 'T2m_m1w',\n 'WS10m_m1w',\n 'load_m1w',\n 'residual_load_m1w',\n 'dataset_id_m1w',\n 'time_local_m1w',\n 'hour_m1w',\n 'day_m1w',\n 'month_m1w',\n 'weekday_m1w',\n 'public_holidays_m1w',\n 'dayOfYearSinosoid_m1w',\n 'dayOfYearCosine_m1w',\n 'monthSinosoid_m1w',\n 'monthCosine_m1w',\n 'hourSinosoid_m1w',\n 'hourCosine_m1w',\n 'AzimuthUTC_m1w',\n 'SolarHeightUTC_m1w',\n 'P_m1w_p1h',\n 'Gb(i)_m1w_p1h',\n 'Gd(i)_m1w_p1h',\n 'H_sun_m1w_p1h',\n 'T2m_m1w_p1h',\n 'WS10m_m1w_p1h',\n 'load_m1w_p1h',\n 'residual_load_m1w_p1h',\n 'dataset_id_m1w_p1h',\n 'time_local_m1w_p1h',\n 'hour_m1w_p1h',\n 'day_m1w_p1h',\n 'month_m1w_p1h',\n 'weekday_m1w_p1h',\n 'public_holidays_m1w_p1h',\n 'dayOfYearSinosoid_m1w_p1h',\n 'dayOfYearCosine_m1w_p1h',\n 'monthSinosoid_m1w_p1h',\n 'monthCosine_m1w_p1h',\n 'hourSinosoid_m1w_p1h',\n 'hourCosine_m1w_p1h',\n 'AzimuthUTC_m1w_p1h',\n 'SolarHeightUTC_m1w_p1h']"
     },
     "execution_count": 146,
     "metadata": {},
     "output_type": "execute_result"
    }
   ],
   "source": [
    "list(train.columns)"
   ],
   "metadata": {
    "collapsed": false,
    "pycharm": {
     "name": "#%%\n"
    }
   }
  },
  {
   "cell_type": "code",
   "execution_count": 147,
   "outputs": [],
   "source": [
    "## get the data from exactly a week ago and additionally the time steps one hour before and after that one for trends\n",
    "test_raw = test.copy()\n",
    "\n",
    "test_tmp = test_raw.copy()\n",
    "test_tmp['time_local'] = test_tmp['time_local'] - pd.DateOffset(days=7) - pd.DateOffset(hour=1)\n",
    "test_tmp = test_tmp.add_suffix('_m1w_m1h')\n",
    "test = pd.concat([test, test_tmp],axis=1).sort_index()\n",
    "\n",
    "test_tmp = test_raw.copy()\n",
    "test_tmp['time_local'] = test_tmp['time_local'] - pd.DateOffset(days=7)\n",
    "test_tmp = test_tmp.add_suffix('_m1w')\n",
    "test = pd.concat([test, test_tmp],axis=1).sort_index()\n",
    "\n",
    "test_tmp = test_raw.copy()\n",
    "test_tmp['time_local'] = test_tmp['time_local'] - pd.DateOffset(days=7) + pd.DateOffset(hour=1)\n",
    "test_tmp = test_tmp.add_suffix('_m1w_p1h')\n",
    "test = pd.concat([test, test_tmp],axis=1).sort_index()\n",
    "\n",
    "#test.head()\n"
   ],
   "metadata": {
    "collapsed": false,
    "pycharm": {
     "name": "#%%\n"
    }
   }
  },
  {
   "cell_type": "code",
   "execution_count": 148,
   "outputs": [
    {
     "data": {
      "text/plain": "['Gb(i)',\n 'Gd(i)',\n 'H_sun',\n 'T2m',\n 'WS10m',\n 'dataset_id',\n 'time_local',\n 'hour',\n 'day',\n 'month',\n 'weekday',\n 'public_holidays',\n 'dayOfYearSinosoid',\n 'dayOfYearCosine',\n 'monthSinosoid',\n 'monthCosine',\n 'hourSinosoid',\n 'hourCosine',\n 'AzimuthUTC',\n 'SolarHeightUTC',\n 'Gb(i)_m1w_m1h',\n 'Gd(i)_m1w_m1h',\n 'H_sun_m1w_m1h',\n 'T2m_m1w_m1h',\n 'WS10m_m1w_m1h',\n 'dataset_id_m1w_m1h',\n 'time_local_m1w_m1h',\n 'hour_m1w_m1h',\n 'day_m1w_m1h',\n 'month_m1w_m1h',\n 'weekday_m1w_m1h',\n 'public_holidays_m1w_m1h',\n 'dayOfYearSinosoid_m1w_m1h',\n 'dayOfYearCosine_m1w_m1h',\n 'monthSinosoid_m1w_m1h',\n 'monthCosine_m1w_m1h',\n 'hourSinosoid_m1w_m1h',\n 'hourCosine_m1w_m1h',\n 'AzimuthUTC_m1w_m1h',\n 'SolarHeightUTC_m1w_m1h',\n 'Gb(i)_m1w',\n 'Gd(i)_m1w',\n 'H_sun_m1w',\n 'T2m_m1w',\n 'WS10m_m1w',\n 'dataset_id_m1w',\n 'time_local_m1w',\n 'hour_m1w',\n 'day_m1w',\n 'month_m1w',\n 'weekday_m1w',\n 'public_holidays_m1w',\n 'dayOfYearSinosoid_m1w',\n 'dayOfYearCosine_m1w',\n 'monthSinosoid_m1w',\n 'monthCosine_m1w',\n 'hourSinosoid_m1w',\n 'hourCosine_m1w',\n 'AzimuthUTC_m1w',\n 'SolarHeightUTC_m1w',\n 'Gb(i)_m1w_p1h',\n 'Gd(i)_m1w_p1h',\n 'H_sun_m1w_p1h',\n 'T2m_m1w_p1h',\n 'WS10m_m1w_p1h',\n 'dataset_id_m1w_p1h',\n 'time_local_m1w_p1h',\n 'hour_m1w_p1h',\n 'day_m1w_p1h',\n 'month_m1w_p1h',\n 'weekday_m1w_p1h',\n 'public_holidays_m1w_p1h',\n 'dayOfYearSinosoid_m1w_p1h',\n 'dayOfYearCosine_m1w_p1h',\n 'monthSinosoid_m1w_p1h',\n 'monthCosine_m1w_p1h',\n 'hourSinosoid_m1w_p1h',\n 'hourCosine_m1w_p1h',\n 'AzimuthUTC_m1w_p1h',\n 'SolarHeightUTC_m1w_p1h']"
     },
     "execution_count": 148,
     "metadata": {},
     "output_type": "execute_result"
    }
   ],
   "source": [
    "list(test.columns)\n",
    "\n"
   ],
   "metadata": {
    "collapsed": false,
    "pycharm": {
     "name": "#%%\n"
    }
   }
  },
  {
   "cell_type": "code",
   "execution_count": 149,
   "outputs": [],
   "source": [
    "## FIRST GET THE AVERAGE CURVE FOR WEEKDAYS AND OTHER DAYS\n",
    "def get_avg_day_load(df):\n",
    "    # average weekend curve\n",
    "    # average week curve\n",
    "\n",
    "    # reshape it into days and\n",
    "    dayShapedLoad = np.reshape(df.load.values[:len(train)],(-1,96))\n",
    "    dayShapedWeekday = np.reshape(df.weekday.values[:len(train)],(-1,96))\n",
    "    dayShapedHoliday = np.reshape(df.public_holidays.values[:len(train)],(-1,96))\n",
    "\n",
    "\n",
    "    weekDayLoad = np.empty((1,96))\n",
    "    otherDayLoad = np.empty((1,96))\n",
    "\n",
    "    for i in range(0,len(dayShapedLoad)):\n",
    "#         if (np.unique(dayShapedHoliday[i])==1) or (np.unique(dayShapedWeekday[i])==0):\n",
    "        if (round(np.mean(dayShapedHoliday[i]))==1) or (round(np.mean(dayShapedWeekday[i]))==0):\n",
    "#            print('holiday or weekend')\n",
    "            otherDayLoad = np.vstack((otherDayLoad,np.reshape(dayShapedLoad[i],(1,96))))\n",
    "        else:\n",
    "            weekDayLoad = np.vstack((weekDayLoad,np.reshape(dayShapedLoad[i],(1,96))))\n",
    "\n",
    "    weekDayLoad = weekDayLoad[1:]\n",
    "    otherDayLoad = otherDayLoad[1:]\n",
    "\n",
    "    weekDayModel_avg  = np.mean(weekDayLoad,axis=0)\n",
    "    weekDayModel_std  = np.std(weekDayLoad,axis=0)\n",
    "\n",
    "    otherModel_avg  = np.mean(otherDayLoad,axis=0)\n",
    "    otherModel_std  = np.std(otherDayLoad,axis=0)\n",
    "\n",
    "\n",
    "    return weekDayModel_avg, weekDayModel_std, otherModel_avg, otherModel_std\n",
    "\n",
    "## THEN GENERATE A VECTOR FROM TIME INDEX\n",
    "def generate_avg_model(df,weekDayModel_avg,otherModel_avg, weekDayModel_std,otherModel_std,hourInddict):\n",
    "\n",
    "    avg_model = []\n",
    "    std_model = []\n",
    "\n",
    "    for i in range(len(df)):\n",
    "        if (np.unique(df.public_holidays[i])==1) or (np.unique(df.weekday[i])==0):\n",
    "            use_index = hourInddict[df.index[i].hour][df.index[i].minute]\n",
    "\n",
    "            avg_model.append(otherModel_avg[use_index])\n",
    "            std_model.append(otherModel_std[use_index])\n",
    "        else:\n",
    "            use_index = hourInddict[df.index[i].hour][df.index[i].minute]\n",
    "\n",
    "            avg_model.append(weekDayModel_avg[use_index])\n",
    "            std_model.append(weekDayModel_std[use_index])\n",
    "\n",
    "    return avg_model, std_model\n",
    "\n",
    "\n",
    "## STEP 1\n",
    "weekDayModel_avg1, weekDayModel_std1, otherModel_avg1, otherModel_std1 = get_avg_day_load(train.iloc[37252:37252+len(train.iloc[68936:])])\n",
    "weekDayModel_avg2, weekDayModel_std2, otherModel_avg2, otherModel_std2 = get_avg_day_load(train.iloc[68936:])\n"
   ],
   "metadata": {
    "collapsed": false
   }
  },
  {
   "cell_type": "code",
   "execution_count": 150,
   "outputs": [
    {
     "data": {
      "text/plain": "19776"
     },
     "execution_count": 150,
     "metadata": {},
     "output_type": "execute_result"
    }
   ],
   "source": [
    "#len(train.iloc[len(train)-19784:])/96\n",
    "206*96"
   ],
   "metadata": {
    "collapsed": false
   }
  },
  {
   "cell_type": "code",
   "execution_count": 151,
   "outputs": [
    {
     "data": {
      "text/plain": "Gb(i)                           0.0\nGd(i)                           0.0\nH_sun                           0.0\nT2m                            3.86\nWS10m                          1.43\n                            ...    \nmonthCosine_m1w_p1h             0.5\nhourSinosoid_m1w_p1h      -0.258819\nhourCosine_m1w_p1h         0.965926\nAzimuthUTC_m1w_p1h          13.8175\nSolarHeightUTC_m1w_p1h   -47.676997\nName: 2020-10-17 23:45:00, Length: 80, dtype: object"
     },
     "execution_count": 151,
     "metadata": {},
     "output_type": "execute_result"
    }
   ],
   "source": [
    "#len(train.iloc[len(train)-19776:])\n",
    "#train.iloc[-1]\n",
    "test.iloc[-1]"
   ],
   "metadata": {
    "collapsed": false
   }
  },
  {
   "cell_type": "code",
   "execution_count": 152,
   "outputs": [
    {
     "data": {
      "text/plain": "<matplotlib.legend.Legend at 0x223cd658bb0>"
     },
     "execution_count": 152,
     "metadata": {},
     "output_type": "execute_result"
    },
    {
     "data": {
      "text/plain": "<Figure size 432x288 with 2 Axes>",
      "image/png": "[encoded data removed]"
     },
     "metadata": {
      "needs_background": "light"
     },
     "output_type": "display_data"
    }
   ],
   "source": [
    "plt.subplot(1,2,1)\n",
    "plt.plot(weekDayModel_avg1)\n",
    "plt.plot(weekDayModel_avg2)\n",
    "\n",
    "plt.subplot(1,2,2)\n",
    "\n",
    "plt.plot(otherModel_avg1,label='before')\n",
    "plt.plot(otherModel_avg2,label='after')\n",
    "plt.legend()"
   ],
   "metadata": {
    "collapsed": false
   }
  },
  {
   "cell_type": "code",
   "execution_count": 153,
   "outputs": [],
   "source": [
    "# np.where(train.index=='2019-03-01 00:00:00')"
   ],
   "metadata": {
    "collapsed": false
   }
  },
  {
   "cell_type": "code",
   "execution_count": 154,
   "outputs": [
    {
     "data": {
      "text/plain": "19776"
     },
     "execution_count": 154,
     "metadata": {},
     "output_type": "execute_result"
    }
   ],
   "source": [
    "#train.iloc[37252]\n",
    "len(train.iloc[68936:])"
   ],
   "metadata": {
    "collapsed": false
   }
  },
  {
   "cell_type": "code",
   "execution_count": 155,
   "outputs": [],
   "source": [
    "# use last week of training for validation\n"
   ],
   "metadata": {
    "collapsed": false
   }
  }
 ],
 "metadata": {
  "kernelspec": {
   "display_name": "Python 3",
   "language": "python",
   "name": "python3"
  },
  "language_info": {
   "codemirror_mode": {
    "name": "ipython",
    "version": 2
   },
   "file_extension": ".py",
   "mimetype": "text/x-python",
   "name": "python",
   "nbconvert_exporter": "python",
   "pygments_lexer": "ipython2",
   "version": "2.7.6"
  }
 },
 "nbformat": 4,
 "nbformat_minor": 0
}