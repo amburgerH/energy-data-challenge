{
 "cells": [
  {
   "cell_type": "code",
   "execution_count": 1,
   "outputs": [],
   "source": [
    "import pandas as pd\n",
    "import matplotlib.pyplot as plt\n",
    "# matplotlib.use('Qt5Agg')"
   ],
   "metadata": {
    "collapsed": false,
    "pycharm": {
     "name": "#%%\n"
    }
   }
  },
  {
   "cell_type": "code",
   "execution_count": 2,
   "outputs": [],
   "source": [
    "train = pd.read_csv('train.csv', parse_dates=True)\n",
    "test = pd.read_csv('test.csv', parse_dates=True)\n",
    "train['time'] = pd.to_datetime(train['time'])\n",
    "test['time'] = pd.to_datetime(test['time'])\n",
    "\n",
    "# set time as index and keep time in column\n",
    "train['time_local'] = train['time'].copy()\n",
    "train.set_index('time', inplace=True)\n",
    "\n",
    "test['time_local'] = test['time'].copy()\n",
    "test.set_index('time', inplace=True)"
   ],
   "metadata": {
    "collapsed": false,
    "pycharm": {
     "name": "#%%\n"
    }
   }
  },
  {
   "cell_type": "code",
   "execution_count": 3,
   "outputs": [
    {
     "data": {
      "text/plain": "                       P  Gb(i)  Gd(i)  H_sun   T2m  WS10m   load  \\\ntime                                                                \n2018-01-01 00:00:00  0.0    0.0    0.0    0.0  9.11   5.38  113.5   \n2018-01-01 00:15:00  0.0    0.0    0.0    0.0  8.89   5.43  119.0   \n2018-01-01 00:30:00  0.0    0.0    0.0    0.0  8.66   5.48  117.5   \n2018-01-01 00:45:00  0.0    0.0    0.0    0.0  8.44   5.54  114.5   \n2018-01-01 01:00:00  0.0    0.0    0.0    0.0  8.22   5.59  123.0   \n\n                     residual_load  dataset_id          time_local  \ntime                                                                \n2018-01-01 00:00:00          113.5           1 2018-01-01 00:00:00  \n2018-01-01 00:15:00          119.0           1 2018-01-01 00:15:00  \n2018-01-01 00:30:00          117.5           1 2018-01-01 00:30:00  \n2018-01-01 00:45:00          114.5           1 2018-01-01 00:45:00  \n2018-01-01 01:00:00          123.0           1 2018-01-01 01:00:00  ",
      "text/html": "<div>\n<style scoped>\n    .dataframe tbody tr th:only-of-type {\n        vertical-align: middle;\n    }\n\n    .dataframe tbody tr th {\n        vertical-align: top;\n    }\n\n    .dataframe thead th {\n        text-align: right;\n    }\n</style>\n<table border=\"1\" class=\"dataframe\">\n  <thead>\n    <tr style=\"text-align: right;\">\n      <th></th>\n      <th>P</th>\n      <th>Gb(i)</th>\n      <th>Gd(i)</th>\n      <th>H_sun</th>\n      <th>T2m</th>\n      <th>WS10m</th>\n      <th>load</th>\n      <th>residual_load</th>\n      <th>dataset_id</th>\n      <th>time_local</th>\n    </tr>\n    <tr>\n      <th>time</th>\n      <th></th>\n      <th></th>\n      <th></th>\n      <th></th>\n      <th></th>\n      <th></th>\n      <th></th>\n      <th></th>\n      <th></th>\n      <th></th>\n    </tr>\n  </thead>\n  <tbody>\n    <tr>\n      <th>2018-01-01 00:00:00</th>\n      <td>0.0</td>\n      <td>0.0</td>\n      <td>0.0</td>\n      <td>0.0</td>\n      <td>9.11</td>\n      <td>5.38</td>\n      <td>113.5</td>\n      <td>113.5</td>\n      <td>1</td>\n      <td>2018-01-01 00:00:00</td>\n    </tr>\n    <tr>\n      <th>2018-01-01 00:15:00</th>\n      <td>0.0</td>\n      <td>0.0</td>\n      <td>0.0</td>\n      <td>0.0</td>\n      <td>8.89</td>\n      <td>5.43</td>\n      <td>119.0</td>\n      <td>119.0</td>\n      <td>1</td>\n      <td>2018-01-01 00:15:00</td>\n    </tr>\n    <tr>\n      <th>2018-01-01 00:30:00</th>\n      <td>0.0</td>\n      <td>0.0</td>\n      <td>0.0</td>\n      <td>0.0</td>\n      <td>8.66</td>\n      <td>5.48</td>\n      <td>117.5</td>\n      <td>117.5</td>\n      <td>1</td>\n      <td>2018-01-01 00:30:00</td>\n    </tr>\n    <tr>\n      <th>2018-01-01 00:45:00</th>\n      <td>0.0</td>\n      <td>0.0</td>\n      <td>0.0</td>\n      <td>0.0</td>\n      <td>8.44</td>\n      <td>5.54</td>\n      <td>114.5</td>\n      <td>114.5</td>\n      <td>1</td>\n      <td>2018-01-01 00:45:00</td>\n    </tr>\n    <tr>\n      <th>2018-01-01 01:00:00</th>\n      <td>0.0</td>\n      <td>0.0</td>\n      <td>0.0</td>\n      <td>0.0</td>\n      <td>8.22</td>\n      <td>5.59</td>\n      <td>123.0</td>\n      <td>123.0</td>\n      <td>1</td>\n      <td>2018-01-01 01:00:00</td>\n    </tr>\n  </tbody>\n</table>\n</div>"
     },
     "execution_count": 3,
     "metadata": {},
     "output_type": "execute_result"
    }
   ],
   "source": [
    "train.head()"
   ],
   "metadata": {
    "collapsed": false,
    "pycharm": {
     "name": "#%%\n"
    }
   }
  },
  {
   "cell_type": "code",
   "execution_count": 4,
   "outputs": [
    {
     "data": {
      "text/plain": "                     Gb(i)  Gd(i)  H_sun   T2m  WS10m  dataset_id  \\\ntime                                                                \n2018-03-26 00:00:00    0.0    0.0    0.0  1.76   1.52           1   \n2018-03-26 00:15:00    0.0    0.0    0.0  1.57   1.52           1   \n2018-03-26 00:30:00    0.0    0.0    0.0  1.38   1.52           1   \n2018-03-26 00:45:00    0.0    0.0    0.0  1.19   1.52           1   \n2018-03-26 01:00:00    0.0    0.0    0.0  1.00   1.52           1   \n\n                             time_local  \ntime                                     \n2018-03-26 00:00:00 2018-03-26 00:00:00  \n2018-03-26 00:15:00 2018-03-26 00:15:00  \n2018-03-26 00:30:00 2018-03-26 00:30:00  \n2018-03-26 00:45:00 2018-03-26 00:45:00  \n2018-03-26 01:00:00 2018-03-26 01:00:00  ",
      "text/html": "<div>\n<style scoped>\n    .dataframe tbody tr th:only-of-type {\n        vertical-align: middle;\n    }\n\n    .dataframe tbody tr th {\n        vertical-align: top;\n    }\n\n    .dataframe thead th {\n        text-align: right;\n    }\n</style>\n<table border=\"1\" class=\"dataframe\">\n  <thead>\n    <tr style=\"text-align: right;\">\n      <th></th>\n      <th>Gb(i)</th>\n      <th>Gd(i)</th>\n      <th>H_sun</th>\n      <th>T2m</th>\n      <th>WS10m</th>\n      <th>dataset_id</th>\n      <th>time_local</th>\n    </tr>\n    <tr>\n      <th>time</th>\n      <th></th>\n      <th></th>\n      <th></th>\n      <th></th>\n      <th></th>\n      <th></th>\n      <th></th>\n    </tr>\n  </thead>\n  <tbody>\n    <tr>\n      <th>2018-03-26 00:00:00</th>\n      <td>0.0</td>\n      <td>0.0</td>\n      <td>0.0</td>\n      <td>1.76</td>\n      <td>1.52</td>\n      <td>1</td>\n      <td>2018-03-26 00:00:00</td>\n    </tr>\n    <tr>\n      <th>2018-03-26 00:15:00</th>\n      <td>0.0</td>\n      <td>0.0</td>\n      <td>0.0</td>\n      <td>1.57</td>\n      <td>1.52</td>\n      <td>1</td>\n      <td>2018-03-26 00:15:00</td>\n    </tr>\n    <tr>\n      <th>2018-03-26 00:30:00</th>\n      <td>0.0</td>\n      <td>0.0</td>\n      <td>0.0</td>\n      <td>1.38</td>\n      <td>1.52</td>\n      <td>1</td>\n      <td>2018-03-26 00:30:00</td>\n    </tr>\n    <tr>\n      <th>2018-03-26 00:45:00</th>\n      <td>0.0</td>\n      <td>0.0</td>\n      <td>0.0</td>\n      <td>1.19</td>\n      <td>1.52</td>\n      <td>1</td>\n      <td>2018-03-26 00:45:00</td>\n    </tr>\n    <tr>\n      <th>2018-03-26 01:00:00</th>\n      <td>0.0</td>\n      <td>0.0</td>\n      <td>0.0</td>\n      <td>1.00</td>\n      <td>1.52</td>\n      <td>1</td>\n      <td>2018-03-26 01:00:00</td>\n    </tr>\n  </tbody>\n</table>\n</div>"
     },
     "execution_count": 4,
     "metadata": {},
     "output_type": "execute_result"
    }
   ],
   "source": [
    "test.head()"
   ],
   "metadata": {
    "collapsed": false,
    "pycharm": {
     "name": "#%%\n"
    }
   }
  },
  {
   "cell_type": "code",
   "execution_count": 5,
   "outputs": [
    {
     "name": "stderr",
     "output_type": "stream",
     "text": [
      "C:\\Users\\jkoch\\AppData\\Local\\Temp\\ipykernel_30504\\3986819880.py:6: PerformanceWarning: Non-vectorized DateOffset being applied to Series or DatetimeIndex.\n",
      "  train_tmp['time_local'] = train_tmp['time_local'] - pd.DateOffset(days=7) - pd.DateOffset(hour=1)\n",
      "C:\\Users\\jkoch\\AppData\\Local\\Temp\\ipykernel_30504\\3986819880.py:18: PerformanceWarning: Non-vectorized DateOffset being applied to Series or DatetimeIndex.\n",
      "  train_tmp['time_local'] = train_tmp['time_local'] - pd.DateOffset(days=7) + pd.DateOffset(hour=1)\n"
     ]
    },
    {
     "data": {
      "text/plain": "                       P  Gb(i)  Gd(i)  H_sun   T2m  WS10m   load  \\\ntime                                                                \n2018-01-01 00:00:00  0.0    0.0    0.0    0.0  9.11   5.38  113.5   \n2018-01-01 00:15:00  0.0    0.0    0.0    0.0  8.89   5.43  119.0   \n2018-01-01 00:30:00  0.0    0.0    0.0    0.0  8.66   5.48  117.5   \n2018-01-01 00:45:00  0.0    0.0    0.0    0.0  8.44   5.54  114.5   \n2018-01-01 01:00:00  0.0    0.0    0.0    0.0  8.22   5.59  123.0   \n\n                     residual_load  dataset_id          time_local  ...  \\\ntime                                                                ...   \n2018-01-01 00:00:00          113.5           1 2018-01-01 00:00:00  ...   \n2018-01-01 00:15:00          119.0           1 2018-01-01 00:15:00  ...   \n2018-01-01 00:30:00          117.5           1 2018-01-01 00:30:00  ...   \n2018-01-01 00:45:00          114.5           1 2018-01-01 00:45:00  ...   \n2018-01-01 01:00:00          123.0           1 2018-01-01 01:00:00  ...   \n\n                     P_m1w_p1h  Gb(i)_m1w_p1h  Gd(i)_m1w_p1h  H_sun_m1w_p1h  \\\ntime                                                                          \n2018-01-01 00:00:00        0.0            0.0            0.0            0.0   \n2018-01-01 00:15:00        0.0            0.0            0.0            0.0   \n2018-01-01 00:30:00        0.0            0.0            0.0            0.0   \n2018-01-01 00:45:00        0.0            0.0            0.0            0.0   \n2018-01-01 01:00:00        0.0            0.0            0.0            0.0   \n\n                     T2m_m1w_p1h  WS10m_m1w_p1h  load_m1w_p1h  \\\ntime                                                            \n2018-01-01 00:00:00         9.11           5.38         113.5   \n2018-01-01 00:15:00         8.89           5.43         119.0   \n2018-01-01 00:30:00         8.66           5.48         117.5   \n2018-01-01 00:45:00         8.44           5.54         114.5   \n2018-01-01 01:00:00         8.22           5.59         123.0   \n\n                     residual_load_m1w_p1h  dataset_id_m1w_p1h  \\\ntime                                                             \n2018-01-01 00:00:00                  113.5                   1   \n2018-01-01 00:15:00                  119.0                   1   \n2018-01-01 00:30:00                  117.5                   1   \n2018-01-01 00:45:00                  114.5                   1   \n2018-01-01 01:00:00                  123.0                   1   \n\n                     time_local_m1w_p1h  \ntime                                     \n2018-01-01 00:00:00 2017-12-25 01:00:00  \n2018-01-01 00:15:00 2017-12-25 01:15:00  \n2018-01-01 00:30:00 2017-12-25 01:30:00  \n2018-01-01 00:45:00 2017-12-25 01:45:00  \n2018-01-01 01:00:00 2017-12-25 01:00:00  \n\n[5 rows x 40 columns]",
      "text/html": "<div>\n<style scoped>\n    .dataframe tbody tr th:only-of-type {\n        vertical-align: middle;\n    }\n\n    .dataframe tbody tr th {\n        vertical-align: top;\n    }\n\n    .dataframe thead th {\n        text-align: right;\n    }\n</style>\n<table border=\"1\" class=\"dataframe\">\n  <thead>\n    <tr style=\"text-align: right;\">\n      <th></th>\n      <th>P</th>\n      <th>Gb(i)</th>\n      <th>Gd(i)</th>\n      <th>H_sun</th>\n      <th>T2m</th>\n      <th>WS10m</th>\n      <th>load</th>\n      <th>residual_load</th>\n      <th>dataset_id</th>\n      <th>time_local</th>\n      <th>...</th>\n      <th>P_m1w_p1h</th>\n      <th>Gb(i)_m1w_p1h</th>\n      <th>Gd(i)_m1w_p1h</th>\n      <th>H_sun_m1w_p1h</th>\n      <th>T2m_m1w_p1h</th>\n      <th>WS10m_m1w_p1h</th>\n      <th>load_m1w_p1h</th>\n      <th>residual_load_m1w_p1h</th>\n      <th>dataset_id_m1w_p1h</th>\n      <th>time_local_m1w_p1h</th>\n    </tr>\n    <tr>\n      <th>time</th>\n      <th></th>\n      <th></th>\n      <th></th>\n      <th></th>\n      <th></th>\n      <th></th>\n      <th></th>\n      <th></th>\n      <th></th>\n      <th></th>\n      <th></th>\n      <th></th>\n      <th></th>\n      <th></th>\n      <th></th>\n      <th></th>\n      <th></th>\n      <th></th>\n      <th></th>\n      <th></th>\n      <th></th>\n    </tr>\n  </thead>\n  <tbody>\n    <tr>\n      <th>2018-01-01 00:00:00</th>\n      <td>0.0</td>\n      <td>0.0</td>\n      <td>0.0</td>\n      <td>0.0</td>\n      <td>9.11</td>\n      <td>5.38</td>\n      <td>113.5</td>\n      <td>113.5</td>\n      <td>1</td>\n      <td>2018-01-01 00:00:00</td>\n      <td>...</td>\n      <td>0.0</td>\n      <td>0.0</td>\n      <td>0.0</td>\n      <td>0.0</td>\n      <td>9.11</td>\n      <td>5.38</td>\n      <td>113.5</td>\n      <td>113.5</td>\n      <td>1</td>\n      <td>2017-12-25 01:00:00</td>\n    </tr>\n    <tr>\n      <th>2018-01-01 00:15:00</th>\n      <td>0.0</td>\n      <td>0.0</td>\n      <td>0.0</td>\n      <td>0.0</td>\n      <td>8.89</td>\n      <td>5.43</td>\n      <td>119.0</td>\n      <td>119.0</td>\n      <td>1</td>\n      <td>2018-01-01 00:15:00</td>\n      <td>...</td>\n      <td>0.0</td>\n      <td>0.0</td>\n      <td>0.0</td>\n      <td>0.0</td>\n      <td>8.89</td>\n      <td>5.43</td>\n      <td>119.0</td>\n      <td>119.0</td>\n      <td>1</td>\n      <td>2017-12-25 01:15:00</td>\n    </tr>\n    <tr>\n      <th>2018-01-01 00:30:00</th>\n      <td>0.0</td>\n      <td>0.0</td>\n      <td>0.0</td>\n      <td>0.0</td>\n      <td>8.66</td>\n      <td>5.48</td>\n      <td>117.5</td>\n      <td>117.5</td>\n      <td>1</td>\n      <td>2018-01-01 00:30:00</td>\n      <td>...</td>\n      <td>0.0</td>\n      <td>0.0</td>\n      <td>0.0</td>\n      <td>0.0</td>\n      <td>8.66</td>\n      <td>5.48</td>\n      <td>117.5</td>\n      <td>117.5</td>\n      <td>1</td>\n      <td>2017-12-25 01:30:00</td>\n    </tr>\n    <tr>\n      <th>2018-01-01 00:45:00</th>\n      <td>0.0</td>\n      <td>0.0</td>\n      <td>0.0</td>\n      <td>0.0</td>\n      <td>8.44</td>\n      <td>5.54</td>\n      <td>114.5</td>\n      <td>114.5</td>\n      <td>1</td>\n      <td>2018-01-01 00:45:00</td>\n      <td>...</td>\n      <td>0.0</td>\n      <td>0.0</td>\n      <td>0.0</td>\n      <td>0.0</td>\n      <td>8.44</td>\n      <td>5.54</td>\n      <td>114.5</td>\n      <td>114.5</td>\n      <td>1</td>\n      <td>2017-12-25 01:45:00</td>\n    </tr>\n    <tr>\n      <th>2018-01-01 01:00:00</th>\n      <td>0.0</td>\n      <td>0.0</td>\n      <td>0.0</td>\n      <td>0.0</td>\n      <td>8.22</td>\n      <td>5.59</td>\n      <td>123.0</td>\n      <td>123.0</td>\n      <td>1</td>\n      <td>2018-01-01 01:00:00</td>\n      <td>...</td>\n      <td>0.0</td>\n      <td>0.0</td>\n      <td>0.0</td>\n      <td>0.0</td>\n      <td>8.22</td>\n      <td>5.59</td>\n      <td>123.0</td>\n      <td>123.0</td>\n      <td>1</td>\n      <td>2017-12-25 01:00:00</td>\n    </tr>\n  </tbody>\n</table>\n<p>5 rows × 40 columns</p>\n</div>"
     },
     "execution_count": 5,
     "metadata": {},
     "output_type": "execute_result"
    }
   ],
   "source": [
    "## get the data from exactly a week ago and additionally the time steps one hour before and after that one for trends\n",
    "train_raw = train.copy()\n",
    "\n",
    "# shift: minus 1 week and one hour\n",
    "train_tmp = train_raw.copy()\n",
    "train_tmp['time_local'] = train_tmp['time_local'] - pd.DateOffset(days=7) - pd.DateOffset(hour=1)\n",
    "train_tmp = train_tmp.add_suffix('_m1w_m1h')\n",
    "train = pd.concat([train, train_tmp],axis=1).sort_index()\n",
    "\n",
    "# shift: minus 1 week\n",
    "train_tmp = train_raw.copy()\n",
    "train_tmp['time_local'] = train_tmp['time_local'] - pd.DateOffset(days=7)\n",
    "train_tmp = train_tmp.add_suffix('_m1w')\n",
    "train = pd.concat([train, train_tmp],axis=1).sort_index()\n",
    "\n",
    "# shift: minus 6 days and 23 hours\n",
    "train_tmp = train_raw.copy()\n",
    "train_tmp['time_local'] = train_tmp['time_local'] - pd.DateOffset(days=7) + pd.DateOffset(hour=1)\n",
    "train_tmp = train_tmp.add_suffix('_m1w_p1h')\n",
    "train = pd.concat([train, train_tmp],axis=1).sort_index()\n",
    "\n",
    "train.head()"
   ],
   "metadata": {
    "collapsed": false,
    "pycharm": {
     "name": "#%%\n"
    }
   }
  },
  {
   "cell_type": "code",
   "execution_count": 6,
   "outputs": [
    {
     "data": {
      "text/plain": "['P',\n 'Gb(i)',\n 'Gd(i)',\n 'H_sun',\n 'T2m',\n 'WS10m',\n 'load',\n 'residual_load',\n 'dataset_id',\n 'time_local',\n 'P_m1w_m1h',\n 'Gb(i)_m1w_m1h',\n 'Gd(i)_m1w_m1h',\n 'H_sun_m1w_m1h',\n 'T2m_m1w_m1h',\n 'WS10m_m1w_m1h',\n 'load_m1w_m1h',\n 'residual_load_m1w_m1h',\n 'dataset_id_m1w_m1h',\n 'time_local_m1w_m1h',\n 'P_m1w',\n 'Gb(i)_m1w',\n 'Gd(i)_m1w',\n 'H_sun_m1w',\n 'T2m_m1w',\n 'WS10m_m1w',\n 'load_m1w',\n 'residual_load_m1w',\n 'dataset_id_m1w',\n 'time_local_m1w',\n 'P_m1w_p1h',\n 'Gb(i)_m1w_p1h',\n 'Gd(i)_m1w_p1h',\n 'H_sun_m1w_p1h',\n 'T2m_m1w_p1h',\n 'WS10m_m1w_p1h',\n 'load_m1w_p1h',\n 'residual_load_m1w_p1h',\n 'dataset_id_m1w_p1h',\n 'time_local_m1w_p1h']"
     },
     "execution_count": 6,
     "metadata": {},
     "output_type": "execute_result"
    }
   ],
   "source": [
    "list(train.columns)"
   ],
   "metadata": {
    "collapsed": false,
    "pycharm": {
     "name": "#%%\n"
    }
   }
  },
  {
   "cell_type": "code",
   "execution_count": 7,
   "outputs": [
    {
     "name": "stderr",
     "output_type": "stream",
     "text": [
      "C:\\Users\\jkoch\\AppData\\Local\\Temp\\ipykernel_30504\\1417744030.py:5: PerformanceWarning: Non-vectorized DateOffset being applied to Series or DatetimeIndex.\n",
      "  test_tmp['time_local'] = test_tmp['time_local'] - pd.DateOffset(days=7) - pd.DateOffset(hour=1)\n",
      "C:\\Users\\jkoch\\AppData\\Local\\Temp\\ipykernel_30504\\1417744030.py:15: PerformanceWarning: Non-vectorized DateOffset being applied to Series or DatetimeIndex.\n",
      "  test_tmp['time_local'] = test_tmp['time_local'] - pd.DateOffset(days=7) + pd.DateOffset(hour=1)\n"
     ]
    },
    {
     "data": {
      "text/plain": "                     Gb(i)  Gd(i)  H_sun   T2m  WS10m  dataset_id  \\\ntime                                                                \n2018-03-26 00:00:00    0.0    0.0    0.0  1.76   1.52           1   \n2018-03-26 00:15:00    0.0    0.0    0.0  1.57   1.52           1   \n2018-03-26 00:30:00    0.0    0.0    0.0  1.38   1.52           1   \n2018-03-26 00:45:00    0.0    0.0    0.0  1.19   1.52           1   \n2018-03-26 01:00:00    0.0    0.0    0.0  1.00   1.52           1   \n\n                             time_local  Gb(i)_m1w_m1h  Gd(i)_m1w_m1h  \\\ntime                                                                    \n2018-03-26 00:00:00 2018-03-26 00:00:00            0.0            0.0   \n2018-03-26 00:15:00 2018-03-26 00:15:00            0.0            0.0   \n2018-03-26 00:30:00 2018-03-26 00:30:00            0.0            0.0   \n2018-03-26 00:45:00 2018-03-26 00:45:00            0.0            0.0   \n2018-03-26 01:00:00 2018-03-26 01:00:00            0.0            0.0   \n\n                     H_sun_m1w_m1h  ...  WS10m_m1w  dataset_id_m1w  \\\ntime                                ...                              \n2018-03-26 00:00:00            0.0  ...       1.52               1   \n2018-03-26 00:15:00            0.0  ...       1.52               1   \n2018-03-26 00:30:00            0.0  ...       1.52               1   \n2018-03-26 00:45:00            0.0  ...       1.52               1   \n2018-03-26 01:00:00            0.0  ...       1.52               1   \n\n                         time_local_m1w Gb(i)_m1w_p1h  Gd(i)_m1w_p1h  \\\ntime                                                                   \n2018-03-26 00:00:00 2018-03-19 00:00:00           0.0            0.0   \n2018-03-26 00:15:00 2018-03-19 00:15:00           0.0            0.0   \n2018-03-26 00:30:00 2018-03-19 00:30:00           0.0            0.0   \n2018-03-26 00:45:00 2018-03-19 00:45:00           0.0            0.0   \n2018-03-26 01:00:00 2018-03-19 01:00:00           0.0            0.0   \n\n                     H_sun_m1w_p1h  T2m_m1w_p1h  WS10m_m1w_p1h  \\\ntime                                                             \n2018-03-26 00:00:00            0.0         1.76           1.52   \n2018-03-26 00:15:00            0.0         1.57           1.52   \n2018-03-26 00:30:00            0.0         1.38           1.52   \n2018-03-26 00:45:00            0.0         1.19           1.52   \n2018-03-26 01:00:00            0.0         1.00           1.52   \n\n                     dataset_id_m1w_p1h  time_local_m1w_p1h  \ntime                                                         \n2018-03-26 00:00:00                   1 2018-03-19 01:00:00  \n2018-03-26 00:15:00                   1 2018-03-19 01:15:00  \n2018-03-26 00:30:00                   1 2018-03-19 01:30:00  \n2018-03-26 00:45:00                   1 2018-03-19 01:45:00  \n2018-03-26 01:00:00                   1 2018-03-19 01:00:00  \n\n[5 rows x 28 columns]",
      "text/html": "<div>\n<style scoped>\n    .dataframe tbody tr th:only-of-type {\n        vertical-align: middle;\n    }\n\n    .dataframe tbody tr th {\n        vertical-align: top;\n    }\n\n    .dataframe thead th {\n        text-align: right;\n    }\n</style>\n<table border=\"1\" class=\"dataframe\">\n  <thead>\n    <tr style=\"text-align: right;\">\n      <th></th>\n      <th>Gb(i)</th>\n      <th>Gd(i)</th>\n      <th>H_sun</th>\n      <th>T2m</th>\n      <th>WS10m</th>\n      <th>dataset_id</th>\n      <th>time_local</th>\n      <th>Gb(i)_m1w_m1h</th>\n      <th>Gd(i)_m1w_m1h</th>\n      <th>H_sun_m1w_m1h</th>\n      <th>...</th>\n      <th>WS10m_m1w</th>\n      <th>dataset_id_m1w</th>\n      <th>time_local_m1w</th>\n      <th>Gb(i)_m1w_p1h</th>\n      <th>Gd(i)_m1w_p1h</th>\n      <th>H_sun_m1w_p1h</th>\n      <th>T2m_m1w_p1h</th>\n      <th>WS10m_m1w_p1h</th>\n      <th>dataset_id_m1w_p1h</th>\n      <th>time_local_m1w_p1h</th>\n    </tr>\n    <tr>\n      <th>time</th>\n      <th></th>\n      <th></th>\n      <th></th>\n      <th></th>\n      <th></th>\n      <th></th>\n      <th></th>\n      <th></th>\n      <th></th>\n      <th></th>\n      <th></th>\n      <th></th>\n      <th></th>\n      <th></th>\n      <th></th>\n      <th></th>\n      <th></th>\n      <th></th>\n      <th></th>\n      <th></th>\n      <th></th>\n    </tr>\n  </thead>\n  <tbody>\n    <tr>\n      <th>2018-03-26 00:00:00</th>\n      <td>0.0</td>\n      <td>0.0</td>\n      <td>0.0</td>\n      <td>1.76</td>\n      <td>1.52</td>\n      <td>1</td>\n      <td>2018-03-26 00:00:00</td>\n      <td>0.0</td>\n      <td>0.0</td>\n      <td>0.0</td>\n      <td>...</td>\n      <td>1.52</td>\n      <td>1</td>\n      <td>2018-03-19 00:00:00</td>\n      <td>0.0</td>\n      <td>0.0</td>\n      <td>0.0</td>\n      <td>1.76</td>\n      <td>1.52</td>\n      <td>1</td>\n      <td>2018-03-19 01:00:00</td>\n    </tr>\n    <tr>\n      <th>2018-03-26 00:15:00</th>\n      <td>0.0</td>\n      <td>0.0</td>\n      <td>0.0</td>\n      <td>1.57</td>\n      <td>1.52</td>\n      <td>1</td>\n      <td>2018-03-26 00:15:00</td>\n      <td>0.0</td>\n      <td>0.0</td>\n      <td>0.0</td>\n      <td>...</td>\n      <td>1.52</td>\n      <td>1</td>\n      <td>2018-03-19 00:15:00</td>\n      <td>0.0</td>\n      <td>0.0</td>\n      <td>0.0</td>\n      <td>1.57</td>\n      <td>1.52</td>\n      <td>1</td>\n      <td>2018-03-19 01:15:00</td>\n    </tr>\n    <tr>\n      <th>2018-03-26 00:30:00</th>\n      <td>0.0</td>\n      <td>0.0</td>\n      <td>0.0</td>\n      <td>1.38</td>\n      <td>1.52</td>\n      <td>1</td>\n      <td>2018-03-26 00:30:00</td>\n      <td>0.0</td>\n      <td>0.0</td>\n      <td>0.0</td>\n      <td>...</td>\n      <td>1.52</td>\n      <td>1</td>\n      <td>2018-03-19 00:30:00</td>\n      <td>0.0</td>\n      <td>0.0</td>\n      <td>0.0</td>\n      <td>1.38</td>\n      <td>1.52</td>\n      <td>1</td>\n      <td>2018-03-19 01:30:00</td>\n    </tr>\n    <tr>\n      <th>2018-03-26 00:45:00</th>\n      <td>0.0</td>\n      <td>0.0</td>\n      <td>0.0</td>\n      <td>1.19</td>\n      <td>1.52</td>\n      <td>1</td>\n      <td>2018-03-26 00:45:00</td>\n      <td>0.0</td>\n      <td>0.0</td>\n      <td>0.0</td>\n      <td>...</td>\n      <td>1.52</td>\n      <td>1</td>\n      <td>2018-03-19 00:45:00</td>\n      <td>0.0</td>\n      <td>0.0</td>\n      <td>0.0</td>\n      <td>1.19</td>\n      <td>1.52</td>\n      <td>1</td>\n      <td>2018-03-19 01:45:00</td>\n    </tr>\n    <tr>\n      <th>2018-03-26 01:00:00</th>\n      <td>0.0</td>\n      <td>0.0</td>\n      <td>0.0</td>\n      <td>1.00</td>\n      <td>1.52</td>\n      <td>1</td>\n      <td>2018-03-26 01:00:00</td>\n      <td>0.0</td>\n      <td>0.0</td>\n      <td>0.0</td>\n      <td>...</td>\n      <td>1.52</td>\n      <td>1</td>\n      <td>2018-03-19 01:00:00</td>\n      <td>0.0</td>\n      <td>0.0</td>\n      <td>0.0</td>\n      <td>1.00</td>\n      <td>1.52</td>\n      <td>1</td>\n      <td>2018-03-19 01:00:00</td>\n    </tr>\n  </tbody>\n</table>\n<p>5 rows × 28 columns</p>\n</div>"
     },
     "execution_count": 7,
     "metadata": {},
     "output_type": "execute_result"
    }
   ],
   "source": [
    "## get the data from exactly a week ago and additionally the time steps one hour before and after that one for trends\n",
    "test_raw = test.copy()\n",
    "\n",
    "test_tmp = test_raw.copy()\n",
    "test_tmp['time_local'] = test_tmp['time_local'] - pd.DateOffset(days=7) - pd.DateOffset(hour=1)\n",
    "test_tmp = test_tmp.add_suffix('_m1w_m1h')\n",
    "test = pd.concat([test, test_tmp],axis=1).sort_index()\n",
    "\n",
    "test_tmp = test_raw.copy()\n",
    "test_tmp['time_local'] = test_tmp['time_local'] - pd.DateOffset(days=7)\n",
    "test_tmp = test_tmp.add_suffix('_m1w')\n",
    "test = pd.concat([test, test_tmp],axis=1).sort_index()\n",
    "\n",
    "test_tmp = test_raw.copy()\n",
    "test_tmp['time_local'] = test_tmp['time_local'] - pd.DateOffset(days=7) + pd.DateOffset(hour=1)\n",
    "test_tmp = test_tmp.add_suffix('_m1w_p1h')\n",
    "test = pd.concat([test, test_tmp],axis=1).sort_index()\n",
    "\n",
    "test.head()\n"
   ],
   "metadata": {
    "collapsed": false,
    "pycharm": {
     "name": "#%%\n"
    }
   }
  },
  {
   "cell_type": "code",
   "execution_count": 8,
   "outputs": [
    {
     "data": {
      "text/plain": "['Gb(i)',\n 'Gd(i)',\n 'H_sun',\n 'T2m',\n 'WS10m',\n 'dataset_id',\n 'time_local',\n 'Gb(i)_m1w_m1h',\n 'Gd(i)_m1w_m1h',\n 'H_sun_m1w_m1h',\n 'T2m_m1w_m1h',\n 'WS10m_m1w_m1h',\n 'dataset_id_m1w_m1h',\n 'time_local_m1w_m1h',\n 'Gb(i)_m1w',\n 'Gd(i)_m1w',\n 'H_sun_m1w',\n 'T2m_m1w',\n 'WS10m_m1w',\n 'dataset_id_m1w',\n 'time_local_m1w',\n 'Gb(i)_m1w_p1h',\n 'Gd(i)_m1w_p1h',\n 'H_sun_m1w_p1h',\n 'T2m_m1w_p1h',\n 'WS10m_m1w_p1h',\n 'dataset_id_m1w_p1h',\n 'time_local_m1w_p1h']"
     },
     "execution_count": 8,
     "metadata": {},
     "output_type": "execute_result"
    }
   ],
   "source": [
    "list(test.columns)"
   ],
   "metadata": {
    "collapsed": false,
    "pycharm": {
     "name": "#%%\n"
    }
   }
  },
  {
   "cell_type": "code",
   "execution_count": null,
   "outputs": [],
   "source": [],
   "metadata": {
    "collapsed": false,
    "pycharm": {
     "name": "#%%\n"
    }
   }
  }
 ],
 "metadata": {
  "kernelspec": {
   "display_name": "Python 3",
   "language": "python",
   "name": "python3"
  },
  "language_info": {
   "codemirror_mode": {
    "name": "ipython",
    "version": 2
   },
   "file_extension": ".py",
   "mimetype": "text/x-python",
   "name": "python",
   "nbconvert_exporter": "python",
   "pygments_lexer": "ipython2",
   "version": "2.7.6"
  }
 },
 "nbformat": 4,
 "nbformat_minor": 0
}